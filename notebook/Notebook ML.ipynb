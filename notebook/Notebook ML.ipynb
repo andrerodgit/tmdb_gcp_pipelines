{
  "nbformat": 4,
  "nbformat_minor": 0,
  "metadata": {
    "colab": {
      "name": "BigQuery table",
      "cell_execution_strategy": "setup",
      "provenance": []
    },
    "kernelspec": {
      "name": "python3",
      "display_name": "Python 3"
    },
    "language_info": {
      "name": "python"
    }
  },
  "cells": [
    {
      "cell_type": "markdown",
      "source": [
        "Importar Bibliotecas:"
      ],
      "metadata": {
        "id": "cHhuuFzm3KWb"
      }
    },
    {
      "cell_type": "code",
      "source": [
        "import numpy as np\n",
        "import pandas as pd\n",
        "from sklearn.svm import SVR\n",
        "from google.cloud import bigquery\n",
        "from sklearn.preprocessing import RobustScaler, OneHotEncoder\n",
        "from sklearn.pipeline import Pipeline\n",
        "from sklearn.model_selection import train_test_split, RandomizedSearchCV\n",
        "from sklearn.metrics import mean_squared_error\n",
        "from sklearn.compose import ColumnTransformer\n",
        "from sklearn.impute import SimpleImputer\n",
        "\n",
        "# Configurar cliente BigQuery\n",
        "client = bigquery.Client()\n",
        "\n",
        "# Consulta SQL para carregar os dados\n",
        "query = \"\"\"\n",
        "SELECT vote_average, release_date, vote_count, popularity\n",
        "FROM `gcp-pde-344913.proj_estudo.movies`\n",
        "\"\"\"\n",
        "\n",
        "# Executar a consulta\n",
        "query_job = client.query(query)\n",
        "\n",
        "# Transformar o resultado em um DataFrame pandas\n",
        "data = query_job.to_dataframe()\n",
        "\n",
        "# Pré-processamento dos dados\n",
        "data['release_year'] = pd.to_datetime(data['release_date']).dt.year  # Extraindo o ano de lançamento\n",
        "data.drop(columns=['release_date'], inplace=True)  # Removendo a coluna original de data\n",
        "data.dropna(inplace=True)  # Remover linhas com valores nulos\n",
        "\n",
        "# Verificar se ainda há dados após a remoção de linhas nulas\n",
        "if data.shape[0] == 0:\n",
        "    raise ValueError(\"Todos os dados foram removidos devido a valores nulos. Não é possível continuar.\")\n",
        "\n",
        "# Separar x e y\n",
        "x = data.drop(columns=['vote_average'])  # Features\n",
        "y = data['vote_average']  # Target\n",
        "\n",
        "# Separar treino e teste\n",
        "x_train, x_test, y_train, y_test = train_test_split(x, y, test_size=0.2, random_state=42)\n",
        "\n",
        "# Identificar colunas categóricas\n",
        "categorical_columns = x.select_dtypes(exclude=np.number).columns\n",
        "\n",
        "# Criar transformador para colunas numéricas\n",
        "num_transf = Pipeline([\n",
        "    ('imputer', SimpleImputer(strategy='median')),\n",
        "    ('scaler', RobustScaler())\n",
        "])\n",
        "\n",
        "# Criar transformador para colunas categóricas\n",
        "cat_transf = Pipeline([\n",
        "    ('onehot', OneHotEncoder(handle_unknown='ignore'))\n",
        "])\n",
        "\n",
        "# Combinar transformadores para todas as colunas\n",
        "preprocessor = ColumnTransformer([\n",
        "    ('num', num_transf, x.select_dtypes(include=np.number).columns),\n",
        "    ('cat', cat_transf, categorical_columns)\n",
        "])\n",
        "\n",
        "# Configurar o pipeline do modelo\n",
        "svm = Pipeline([\n",
        "    ('preprocessor', preprocessor),\n",
        "    ('model', SVR())\n",
        "])\n",
        "\n",
        "# Configurar os parâmetros de busca\n",
        "params_svr = {\n",
        "    'model__kernel': ['rbf', 'linear', 'poly'],\n",
        "    'model__C': np.logspace(-3, 2, 6),\n",
        "    'model__gamma': np.logspace(-3, 2, 6),\n",
        "    'model__degree': [2, 3, 4]\n",
        "}\n",
        "\n",
        "# Configurar o buscador\n",
        "random_search_svr = RandomizedSearchCV(\n",
        "    estimator=svm,\n",
        "    param_distributions=params_svr,\n",
        "    n_iter=50,\n",
        "    scoring='neg_mean_squared_error',  # Usando o erro quadrático médio negativo como métrica para regressão\n",
        "    cv=5,\n",
        "    refit=True,\n",
        "    error_score=0\n",
        ")\n",
        "\n",
        "# Ajustar o modelo\n",
        "random_search_svr.fit(x_train, y_train)\n",
        "\n",
        "# Melhores parâmetros\n",
        "print('SVR:', random_search_svr.best_params_)\n",
        "\n",
        "# Melhor desempenho médio\n",
        "print('SVR - Melhor MSE:', -random_search_svr.best_score_)\n",
        "\n",
        "# Avaliar o modelo\n",
        "y_pred_train = random_search_svr.predict(x_train)\n",
        "y_pred_test = random_search_svr.predict(x_test)\n",
        "\n",
        "# Avaliar o desempenho\n",
        "mse_train = mean_squared_error(y_train, y_pred_train)\n",
        "mse_test = mean_squared_error(y_test, y_pred_test)\n",
        "\n",
        "print('MSE (treino):', mse_train)\n",
        "print('MSE (teste):', mse_test)\n",
        "\n",
        "# Exportar os resultados para um arquivo CSV\n",
        "results_df = pd.DataFrame({'y_true': y_test, 'y_pred': y_pred_test})\n",
        "results_df.to_csv('gs://us-central1-composer-proj-e-a59bc4b9-bucket/CSV/results.csv', index=False)\n"
      ],
      "metadata": {
        "colab": {
          "base_uri": "https://localhost:8080/"
        },
        "id": "vr1__SDd3g-M",
        "executionInfo": {
          "status": "ok",
          "timestamp": 1710592690191,
          "user_tz": 180,
          "elapsed": 6633,
          "user": {
            "displayName": "",
            "userId": ""
          }
        },
        "outputId": "ea18ffe0-9c39-45bf-805c-dba177dd796d"
      },
      "execution_count": 2,
      "outputs": [
        {
          "output_type": "stream",
          "name": "stdout",
          "text": [
            "SVR: {'model__kernel': 'poly', 'model__gamma': 100.0, 'model__degree': 4, 'model__C': 0.1}\n",
            "SVR - Melhor MSE: 0.0015132166666666658\n",
            "MSE (treino): 0.0014733749999999975\n",
            "MSE (teste): 0.01872775000000003\n"
          ]
        }
      ]
    }
  ]
}